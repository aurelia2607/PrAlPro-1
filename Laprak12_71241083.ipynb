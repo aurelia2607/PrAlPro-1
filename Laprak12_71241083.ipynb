{
  "nbformat": 4,
  "nbformat_minor": 0,
  "metadata": {
    "colab": {
      "provenance": [],
      "authorship_tag": "ABX9TyN/Yr5PmZ4LuhYDJD0P2Cc8",
      "include_colab_link": true
    },
    "kernelspec": {
      "name": "python3",
      "display_name": "Python 3"
    },
    "language_info": {
      "name": "python"
    }
  },
  "cells": [
    {
      "cell_type": "markdown",
      "metadata": {
        "id": "view-in-github",
        "colab_type": "text"
      },
      "source": [
        "<a href=\"https://colab.research.google.com/github/aurelia2607/PrAlPro-1/blob/main/Laprak12_71241083.ipynb\" target=\"_parent\"><img src=\"https://colab.research.google.com/assets/colab-badge.svg\" alt=\"Open In Colab\"/></a>"
      ]
    },
    {
      "cell_type": "code",
      "execution_count": null,
      "metadata": {
        "id": "E783PqvcqvZe"
      },
      "outputs": [],
      "source": [
        "from collections import Counter\n",
        "\n",
        "kategori1 = {'Aplikasi1', 'Aplikasi2', 'Aplikasi3'}\n",
        "kategori2 = {'Aplikasi2', 'Aplikasi3', 'Aplikasi4'}\n",
        "kategori3 = {'Aplikasi3', 'Aplikasi5'}\n",
        "\n",
        "all_kategori = [kategori1, kategori2, kategori3]\n",
        "\n",
        "app_count = Counter()\n",
        "for kategori in all_kategori:\n",
        "    for app in kategori:\n",
        "        app_count[app] += 1\n",
        "\n",
        "satu_kategori = [app for app, count in app_count.items() if count == 1]\n",
        "print('Aplikasi hanya di satu kategori:', satu_kategori)\n",
        "\n",
        "n = 3\n",
        "if n > 2:\n",
        "    dua_kategori = [app for app, count in app_count.items() if count == 2]\n",
        "    print('Aplikasi tepat di dua kategori:', dua_kategori)\n"
      ]
    },
    {
      "cell_type": "code",
      "source": [
        "data_list = [1, 2, 2, 3, 4, 4, 5]\n",
        "print('Data List sebelum konversi:', data_list)\n",
        "data_set = set(data_list)\n",
        "print('Data List setelah konversi ke Set:', data_set)\n",
        "print()\n",
        "\n",
        "data_set2 = {10, 20, 30, 40, 50}\n",
        "print('Data Set sebelum konversi:', data_set2)\n",
        "data_list2 = list(data_set2)\n",
        "print('Data Set setelah konversi ke List:', data_list2)\n",
        "print()\n",
        "\n",
        "data_tuple = (100, 200, 200, 300, 400)\n",
        "print('Data Tuple sebelum konversi:', data_tuple)\n",
        "data_set3 = set(data_tuple)\n",
        "print('Data Tuple setelah konversi ke Set:', data_set3)\n",
        "print()\n",
        "\n",
        "data_set4 = {'apel', 'pisang', 'jeruk'}\n",
        "print('Data Set sebelum konversi:', data_set4)\n",
        "data_tuple2 = tuple(data_set4)\n",
        "print('Data Set setelah konversi ke Tuple:', data_tuple2)\n"
      ],
      "metadata": {
        "id": "s69N9p8NrbDC"
      },
      "execution_count": null,
      "outputs": []
    },
    {
      "cell_type": "code",
      "source": [
        "try:\n",
        "    file1_name = input(\"Masukkan nama file pertama: \")\n",
        "    file2_name = input(\"Masukkan nama file kedua: \")\n",
        "\n",
        "    with open(file1_name, 'r') as file1:\n",
        "        data1 = file1.read().lower().split()\n",
        "\n",
        "    with open(file2_name, 'r') as file2:\n",
        "        data2 = file2.read().lower().split()\n",
        "\n",
        "    kata_kedua_file = set(data1) & set(data2)\n",
        "    print('Kata-kata yang muncul di kedua file:', kata_kedua_file)\n",
        "\n",
        "except FileNotFoundError:\n",
        "    print(\"Salah satu file tidak ditemukan atau tidak bisa dibaca.\")\n",
        "except Exception as e:\n",
        "    print(\"Terjadi error:\", e)\n"
      ],
      "metadata": {
        "id": "0bfIyMK1ruY2"
      },
      "execution_count": null,
      "outputs": []
    }
  ]
}