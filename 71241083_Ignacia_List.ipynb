{
  "nbformat": 4,
  "nbformat_minor": 0,
  "metadata": {
    "colab": {
      "provenance": [],
      "authorship_tag": "ABX9TyMRCD2kunVW7vTrRZHkcXUT",
      "include_colab_link": true
    },
    "kernelspec": {
      "name": "python3",
      "display_name": "Python 3"
    },
    "language_info": {
      "name": "python"
    }
  },
  "cells": [
    {
      "cell_type": "markdown",
      "metadata": {
        "id": "view-in-github",
        "colab_type": "text"
      },
      "source": [
        "<a href=\"https://colab.research.google.com/github/aurelia2607/PrAlPro-1/blob/main/71241083_Ignacia_List.ipynb\" target=\"_parent\"><img src=\"https://colab.research.google.com/assets/colab-badge.svg\" alt=\"Open In Colab\"/></a>"
      ]
    },
    {
      "cell_type": "code",
      "execution_count": null,
      "metadata": {
        "id": "eWFdrPlozkdY"
      },
      "outputs": [],
      "source": [
        "def tiga_terbesar(data):\n",
        "    data_terurut = sorted(data, reverse=True)\n",
        "    return data_terurut[:3]"
      ]
    },
    {
      "cell_type": "code",
      "source": [
        "def tiga_terbesar(data):\n",
        "    if len(data) < 3:\n",
        "        print(\"Peringatan: data kurang dari 3 elemen, hasil mungkin tidak lengkap.\")\n",
        "    data_terurut = sorted(data, reverse=True)\n",
        "    return data_terurut[:3]\n"
      ],
      "metadata": {
        "id": "q8i_dz4Vz_5n"
      },
      "execution_count": null,
      "outputs": []
    },
    {
      "cell_type": "code",
      "source": [
        "def kata_unik_dari_file(nama_file):\n",
        "    try:\n",
        "        with open(nama_file, 'r', encoding='utf-8') as file:\n",
        "            isi = file.read()\n",
        "\n",
        "            for simbol in '.,!?;:\"()[]{}':\n",
        "                isi = isi.replace(simbol, '')\n",
        "            isi = isi.lower()\n",
        "            daftar_kata = isi.split()\n",
        "            kata_unik = set(daftar_kata)\n",
        "            print(\"Kata-kata unik dalam file:\")\n",
        "            for kata in sorted(kata_unik):\n",
        "                print(kata)\n",
        "    except FileNotFoundError:\n",
        "        print(\"File tidak ditemukan. Pastikan nama file sudah benar.\")\n"
      ],
      "metadata": {
        "id": "_xKywDxJ0gvp"
      },
      "execution_count": null,
      "outputs": []
    }
  ]
}