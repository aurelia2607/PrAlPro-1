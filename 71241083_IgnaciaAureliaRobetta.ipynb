{
  "nbformat": 4,
  "nbformat_minor": 0,
  "metadata": {
    "colab": {
      "provenance": [],
      "authorship_tag": "ABX9TyPQx7s/9enbW4RMzqnKjxtP",
      "include_colab_link": true
    },
    "kernelspec": {
      "name": "python3",
      "display_name": "Python 3"
    },
    "language_info": {
      "name": "python"
    }
  },
  "cells": [
    {
      "cell_type": "markdown",
      "metadata": {
        "id": "view-in-github",
        "colab_type": "text"
      },
      "source": [
        "<a href=\"https://colab.research.google.com/github/aurelia2607/PrAlPro-1/blob/main/71241083_IgnaciaAureliaRobetta.ipynb\" target=\"_parent\"><img src=\"https://colab.research.google.com/assets/colab-badge.svg\" alt=\"Open In Colab\"/></a>"
      ]
    },
    {
      "cell_type": "code",
      "execution_count": 1,
      "metadata": {
        "colab": {
          "base_uri": "https://localhost:8080/"
        },
        "id": "YsGEoBk9QMTG",
        "outputId": "41df3789-f1ef-4f71-c89c-c255c2183261"
      },
      "outputs": [
        {
          "output_type": "stream",
          "name": "stdout",
          "text": [
            "Masukkan bilangan: 10\n",
            "Bilangan prima terdekat sebelum input: 7\n"
          ]
        }
      ],
      "source": [
        "def is_prima(angka):\n",
        "    if angka < 2:\n",
        "        return False\n",
        "    for i in range(2, int(angka ** 0.5) + 1):\n",
        "        if angka % i == 0:\n",
        "            return False\n",
        "    return True\n",
        "n = int(input(\"Masukkan bilangan: \"))\n",
        "n -= 1\n",
        "\n",
        "while n > 1:\n",
        "    if is_prima(n):\n",
        "        print(f\"Bilangan prima terdekat sebelum input: {n}\")\n",
        "        break\n",
        "    n -= 1\n"
      ]
    },
    {
      "cell_type": "code",
      "source": [
        "import math\n",
        "\n",
        "n = int(input(\"Masukkan nilai n: \"))\n",
        "\n",
        "for i in range(n, 0, -1):\n",
        "    faktorial = math.factorial(i)\n",
        "    deret = [str(j) for j in range(i, 0, -1)]\n",
        "    print(f\"{faktorial} \" + \" \".join(deret))\n"
      ],
      "metadata": {
        "colab": {
          "base_uri": "https://localhost:8080/"
        },
        "id": "Sgj7c7jYRhPt",
        "outputId": "12e96f6f-2d12-4ee1-80ad-7d5082ac0f7c"
      },
      "execution_count": 2,
      "outputs": [
        {
          "output_type": "stream",
          "name": "stdout",
          "text": [
            "Masukkan nilai n: 6\n",
            "720 6 5 4 3 2 1\n",
            "120 5 4 3 2 1\n",
            "24 4 3 2 1\n",
            "6 3 2 1\n",
            "2 2 1\n",
            "1 1\n"
          ]
        }
      ]
    },
    {
      "cell_type": "code",
      "source": [
        "def tampilkan_deret(tinggi, lebar):\n",
        "    angka = 1\n",
        "    for i in range(tinggi):\n",
        "        for j in range(lebar):\n",
        "            print(angka, end=' ')\n",
        "            angka += 1\n",
        "        print()\n",
        "\n",
        "tinggi = int(input(\"Masukkan tinggi: \"))\n",
        "lebar = int(input(\"Masukkan lebar: \"))\n",
        "\n",
        "tampilkan_deret(tinggi, lebar)"
      ],
      "metadata": {
        "colab": {
          "base_uri": "https://localhost:8080/"
        },
        "id": "SKfvj9_GSNnM",
        "outputId": "dd6cf0d3-354b-402d-dffd-600eb64ea8e8"
      },
      "execution_count": 4,
      "outputs": [
        {
          "output_type": "stream",
          "name": "stdout",
          "text": [
            "Masukkan tinggi: 5\n",
            "Masukkan lebar: 4\n",
            "1 2 3 4 \n",
            "5 6 7 8 \n",
            "9 10 11 12 \n",
            "13 14 15 16 \n",
            "17 18 19 20 \n"
          ]
        }
      ]
    }
  ]
}