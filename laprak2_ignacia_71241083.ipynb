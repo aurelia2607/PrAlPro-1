{
  "nbformat": 4,
  "nbformat_minor": 0,
  "metadata": {
    "colab": {
      "provenance": [],
      "authorship_tag": "ABX9TyOaiYPbiTcXkeIf0T7PGXlG",
      "include_colab_link": true
    },
    "kernelspec": {
      "name": "python3",
      "display_name": "Python 3"
    },
    "language_info": {
      "name": "python"
    }
  },
  "cells": [
    {
      "cell_type": "markdown",
      "metadata": {
        "id": "view-in-github",
        "colab_type": "text"
      },
      "source": [
        "<a href=\"https://colab.research.google.com/github/aurelia2607/PrAlPro-1/blob/laprak-2/laprak2_ignacia_71241083.ipynb\" target=\"_parent\"><img src=\"https://colab.research.google.com/assets/colab-badge.svg\" alt=\"Open In Colab\"/></a>"
      ]
    },
    {
      "cell_type": "code",
      "execution_count": null,
      "metadata": {
        "colab": {
          "base_uri": "https://localhost:8080/"
        },
        "id": "YKj3h2Q6PPcO",
        "outputId": "71ff048e-c4a2-4cf5-e562-a08a213f6a39"
      },
      "outputs": [
        {
          "output_type": "stream",
          "name": "stdout",
          "text": [
            "Masukanlah BMI anda :25\n",
            "Masukanlah tinggi anda dalam meter:1.65\n",
            "Menurut hasil hitungan, berat anda adalah 68.06 kg\n"
          ]
        }
      ],
      "source": [
        "bmi = float(input(\"Masukanlah BMI anda :\"))\n",
        "tinggi = float(input(\"Masukanlah tinggi anda dalam meter:\"))\n",
        "berat = bmi * (tinggi ** 2)\n",
        "print(\"Menurut hasil hitungan, berat anda adalah\", f\"{berat:.2f}\", \"kg\")"
      ]
    },
    {
      "cell_type": "code",
      "source": [
        "x = float(input(\"Masukan nilai X:\"))\n",
        "fungsi = 2 * (x ** 3) + 2 * x + 15 / x\n",
        "print(\"Hasil dari fungsi f(x) adalah\", fungsi)"
      ],
      "metadata": {
        "colab": {
          "base_uri": "https://localhost:8080/"
        },
        "id": "Yr_GQzkyP10_",
        "outputId": "0f384ae9-41fb-413e-e730-1659dad78de8"
      },
      "execution_count": null,
      "outputs": [
        {
          "output_type": "stream",
          "name": "stdout",
          "text": [
            "Masukan nilai X:8\n",
            "Hasil dari fungsi f(x) adalah 1041.875\n"
          ]
        }
      ]
    },
    {
      "cell_type": "code",
      "source": [
        "gaji_perjam = float(input(\"Gaji perjam yang anda inginkan :\"))\n",
        "jamKerja = float(input(\"jumlah jam kerja yang harus di ambil:\"))\n",
        "nonpajak = gaji_perjam * jamKerja * 5\n",
        "pajak = nonpajak * 0.14\n",
        "pendapatanBersih = nonpajak - pajak\n",
        "beliBaju = pendapatanBersih * 0.1\n",
        "sisa = pendapatanBersih - beliBaju\n",
        "alatTulis = sisa * 0.01\n",
        "\n",
        "#sisa uang yang di sedekahkan\n",
        "sisa2 = sisa - alatTulis\n",
        "sedekah = sisa2 * 0.25\n",
        "\n",
        "yteam = sedekah * 0.3\n",
        "dhuafa = sedekah * 0.7\n",
        "\n",
        "print(\"pendapatan Budi sebelum membayar pajak Rp{}\".format(round(nonpajak)))\n",
        "print(\"pendapatan Budi setelh membayar pajak Rp{}\".format(round(pendapatanBersih)))\n",
        "print(\"Jumlah uang yang digunakan untuk membeli baju dan aksesoris Rp{}\".format(round(beliBaju)))\n",
        "print(\"Jumlah uang yang digunakan untuk membeli alat tulis Rp{}\".format(round(alatTulis)))\n",
        "print(\"Jumlah uang yang digunakan untuk bersedekah Rp{}\".format(round(sedekah)))\n",
        "print(\"Jumlah uang yang digunakan untuk dibagikan ke anak yatim Rp{}\".format(round(yteam)))\n",
        "print(\"Jumlah uang yang digunakan untuk dibagikan ke kaum dhuafa Rp{}\".format(round(dhuafa)))"
      ],
      "metadata": {
        "id": "v8a3pElkSbfn",
        "colab": {
          "base_uri": "https://localhost:8080/"
        },
        "outputId": "a68c09ce-63ad-44c7-c8e1-c5c2f14eede5"
      },
      "execution_count": null,
      "outputs": [
        {
          "output_type": "stream",
          "name": "stdout",
          "text": [
            "Gaji perjam yang anda inginkan :40000\n",
            "jumlah jam kerja yang harus di ambil:20\n",
            "pendapatan Budi sebelum membayar pajak Rp4000000\n",
            "pendapatan Budi setelh membayar pajak Rp3440000\n",
            "Jumlah uang yang digunakan untuk membeli baju dan aksesoris Rp344000\n",
            "Jumlah uang yang digunakan untuk membeli alat tulis Rp30960\n",
            "Jumlah uang yang digunakan untuk bersedekah Rp766260\n",
            "Jumlah uang yang digunakan untuk dibagikan ke anak yatim Rp229878\n",
            "Jumlah uang yang digunakan untuk dibagikan ke kaum dhuafa Rp536382\n"
          ]
        }
      ]
    }
  ]
}