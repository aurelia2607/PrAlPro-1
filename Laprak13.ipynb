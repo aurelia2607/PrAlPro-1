{
  "nbformat": 4,
  "nbformat_minor": 0,
  "metadata": {
    "colab": {
      "provenance": [],
      "authorship_tag": "ABX9TyOLCETQggPGNfQGsGjaTKjO",
      "include_colab_link": true
    },
    "kernelspec": {
      "name": "python3",
      "display_name": "Python 3"
    },
    "language_info": {
      "name": "python"
    }
  },
  "cells": [
    {
      "cell_type": "markdown",
      "metadata": {
        "id": "view-in-github",
        "colab_type": "text"
      },
      "source": [
        "<a href=\"https://colab.research.google.com/github/aurelia2607/PrAlPro-1/blob/main/Laprak13.ipynb\" target=\"_parent\"><img src=\"https://colab.research.google.com/assets/colab-badge.svg\" alt=\"Open In Colab\"/></a>"
      ]
    },
    {
      "cell_type": "code",
      "execution_count": 1,
      "metadata": {
        "colab": {
          "base_uri": "https://localhost:8080/"
        },
        "id": "7BgqzNjyLbVT",
        "outputId": "acdf3132-41e8-4693-be9a-e8cb97793283"
      },
      "outputs": [
        {
          "output_type": "stream",
          "name": "stdout",
          "text": [
            "True\n"
          ]
        }
      ],
      "source": [
        "tA = (90, 90, 90, 90)\n",
        "sama = True\n",
        "\n",
        "for angka in tA:\n",
        "    if angka != tA[0]:\n",
        "        sama = False\n",
        "        break\n",
        "\n",
        "print(sama)\n"
      ]
    },
    {
      "cell_type": "code",
      "source": [
        "data = ('Ignacia Aurelia Robetta', '24026007', 'Purwokerto, Jawa Tengah')\n",
        "print(\"NIM :\", data[1])\n",
        "print(\"NAMA :\", data[0])\n",
        "print(\"ALAMAT :\", data[2])\n",
        "\n",
        "nim_tuple = tuple(data[1])\n",
        "print(\"NIM:\", nim_tuple)\n",
        "\n",
        "nama_depan_tuple = tuple(data[0].split()[0].lower())\n",
        "print(\"NAMA DEPAN:\", nama_depan_tuple)\n",
        "\n",
        "nama_terbalik_tuple = tuple(reversed(data[0].split()))\n",
        "print(\"NAMA TERBALIK:\", nama_terbalik_tuple)\n"
      ],
      "metadata": {
        "colab": {
          "base_uri": "https://localhost:8080/"
        },
        "id": "gfSInaVsLlb_",
        "outputId": "631b91bf-f67a-4621-a2bc-2da2dbd6500c"
      },
      "execution_count": 2,
      "outputs": [
        {
          "output_type": "stream",
          "name": "stdout",
          "text": [
            "NIM : 24026007\n",
            "NAMA : Ignacia Aurelia Robetta\n",
            "ALAMAT : Purwokerto, Jawa Tengah\n",
            "NIM: ('2', '4', '0', '2', '6', '0', '0', '7')\n",
            "NAMA DEPAN: ('i', 'g', 'n', 'a', 'c', 'i', 'a')\n",
            "NAMA TERBALIK: ('Robetta', 'Aurelia', 'Ignacia')\n"
          ]
        }
      ]
    },
    {
      "cell_type": "code",
      "source": [
        "name = input(\"Enter a file name: \")\n",
        "handle = open(name)\n",
        "\n",
        "jam_count = dict()\n",
        "\n",
        "for line in handle:\n",
        "    if line.startswith('From '):\n",
        "        words = line.split()\n",
        "        waktu = words[5].split(':')[0]\n",
        "        jam_count[waktu] = jam_count.get(waktu, 0) + 1\n",
        "\n",
        "for k in sorted(jam_count):\n",
        "    print(k, jam_count[k])\n"
      ],
      "metadata": {
        "colab": {
          "base_uri": "https://localhost:8080/",
          "height": 228
        },
        "id": "pqI9E6D8L0E3",
        "outputId": "9069ada4-a89c-4824-c1da-9a795aee2b7b"
      },
      "execution_count": 3,
      "outputs": [
        {
          "name": "stdout",
          "output_type": "stream",
          "text": [
            "Enter a file name: mbox-short.txt\n"
          ]
        },
        {
          "output_type": "error",
          "ename": "FileNotFoundError",
          "evalue": "[Errno 2] No such file or directory: 'mbox-short.txt'",
          "traceback": [
            "\u001b[0;31m---------------------------------------------------------------------------\u001b[0m",
            "\u001b[0;31mFileNotFoundError\u001b[0m                         Traceback (most recent call last)",
            "\u001b[0;32m<ipython-input-3-2a70bb4569cb>\u001b[0m in \u001b[0;36m<cell line: 0>\u001b[0;34m()\u001b[0m\n\u001b[1;32m      1\u001b[0m \u001b[0mname\u001b[0m \u001b[0;34m=\u001b[0m \u001b[0minput\u001b[0m\u001b[0;34m(\u001b[0m\u001b[0;34m\"Enter a file name: \"\u001b[0m\u001b[0;34m)\u001b[0m\u001b[0;34m\u001b[0m\u001b[0;34m\u001b[0m\u001b[0m\n\u001b[0;32m----> 2\u001b[0;31m \u001b[0mhandle\u001b[0m \u001b[0;34m=\u001b[0m \u001b[0mopen\u001b[0m\u001b[0;34m(\u001b[0m\u001b[0mname\u001b[0m\u001b[0;34m)\u001b[0m\u001b[0;34m\u001b[0m\u001b[0;34m\u001b[0m\u001b[0m\n\u001b[0m\u001b[1;32m      3\u001b[0m \u001b[0;34m\u001b[0m\u001b[0m\n\u001b[1;32m      4\u001b[0m \u001b[0mjam_count\u001b[0m \u001b[0;34m=\u001b[0m \u001b[0mdict\u001b[0m\u001b[0;34m(\u001b[0m\u001b[0;34m)\u001b[0m\u001b[0;34m\u001b[0m\u001b[0;34m\u001b[0m\u001b[0m\n\u001b[1;32m      5\u001b[0m \u001b[0;34m\u001b[0m\u001b[0m\n",
            "\u001b[0;31mFileNotFoundError\u001b[0m: [Errno 2] No such file or directory: 'mbox-short.txt'"
          ]
        }
      ]
    }
  ]
}