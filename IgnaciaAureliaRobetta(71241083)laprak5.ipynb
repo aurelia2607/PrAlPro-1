{
  "nbformat": 4,
  "nbformat_minor": 0,
  "metadata": {
    "colab": {
      "provenance": [],
      "authorship_tag": "ABX9TyPVj5ii3tt98BScwmc8QSXi",
      "include_colab_link": true
    },
    "kernelspec": {
      "name": "python3",
      "display_name": "Python 3"
    },
    "language_info": {
      "name": "python"
    }
  },
  "cells": [
    {
      "cell_type": "markdown",
      "metadata": {
        "id": "view-in-github",
        "colab_type": "text"
      },
      "source": [
        "<a href=\"https://colab.research.google.com/github/aurelia2607/PrAlPro-1/blob/main/IgnaciaAureliaRobetta(71241083)laprak5.ipynb\" target=\"_parent\"><img src=\"https://colab.research.google.com/assets/colab-badge.svg\" alt=\"Open In Colab\"/></a>"
      ]
    },
    {
      "cell_type": "code",
      "source": [
        "def cek_angka(angka1,angka2,angka3):\n",
        "  if angka1 == angka2 or angka2 == angka3 or angka3 == angka1:\n",
        "    return False\n",
        "  else:\n",
        "    return True\n",
        "  if angka1 + angka2 == angka3 or angka1 + angka3 == angka2 or angka2 + angka3 == angka1:\n",
        "    return True\n",
        "  else:\n",
        "    return False\n",
        "\n",
        "print(cek_angka(1, 2, 3))"
      ],
      "metadata": {
        "colab": {
          "base_uri": "https://localhost:8080/"
        },
        "id": "aVEMwpqBOHpy",
        "outputId": "de69a670-3819-480f-ec4e-522ebc664b9c"
      },
      "execution_count": 2,
      "outputs": [
        {
          "output_type": "stream",
          "name": "stdout",
          "text": [
            "True\n"
          ]
        }
      ]
    },
    {
      "cell_type": "code",
      "execution_count": 4,
      "metadata": {
        "colab": {
          "base_uri": "https://localhost:8080/"
        },
        "id": "ZnPM39iyOEMF",
        "outputId": "36730f07-c8fc-458a-e0c7-7388f32b6641"
      },
      "outputs": [
        {
          "output_type": "stream",
          "name": "stdout",
          "text": [
            "Masukkan angka pertama: 30\n",
            "Masukkan angka kedua: 20\n",
            "Masukkan angka ketiga: 18\n",
            "True\n"
          ]
        }
      ],
      "source": [
        "def cek_digit_belakang (angka1,angka2,angka3):\n",
        "  digit1 = angka1 % 10\n",
        "  digit2 = angka2 % 10\n",
        "  digit3 = angka3 % 10\n",
        "  if digit1 == digit2 or digit1 == digit3 or digit2 == digit3:\n",
        "    return True\n",
        "  else:\n",
        "    return False\n",
        "try:\n",
        "    angka1 = int(input(\"Masukkan angka pertama: \"))\n",
        "    angka2 = int(input(\"Masukkan angka kedua: \"))\n",
        "    angka3 = int(input(\"Masukkan angka ketiga: \"))\n",
        "except ValueError:\n",
        "    print(\"Input harus berupa angka.\")\n",
        "\n",
        "print(cek_digit_belakang(30, 20, 18))"
      ]
    },
    {
      "cell_type": "code",
      "source": [
        "celsius_to_f = lambda celcius: (9/5) * celcius + 32\n",
        "celsius_to_r = lambda celcius: 0.8 * celcius\n",
        "\n",
        "test_cases = [\n",
        "    (100, 'F'),\n",
        "    (80, 'R'),\n",
        "    (0, 'F'),\n",
        "]\n",
        "\n",
        "for celcius, konversi in test_cases:\n",
        "    if konversi == 'F':\n",
        "        result = celsius_to_f(celcius)\n",
        "        print(f\"C = {celcius},F = {result}\")\n",
        "    elif konversi == 'R':\n",
        "        result = celsius_to_r(celcius)\n",
        "        print(f\"C = {celcius}, R = {result}\")\n",
        "\n"
      ],
      "metadata": {
        "colab": {
          "base_uri": "https://localhost:8080/"
        },
        "id": "fz4KUtrq61Vx",
        "outputId": "b1fede04-8e07-43a1-efbf-4596a0baeecf"
      },
      "execution_count": 1,
      "outputs": [
        {
          "output_type": "stream",
          "name": "stdout",
          "text": [
            "C = 100,F = 212.0\n",
            "C = 80, R = 64.0\n",
            "C = 0,F = 32.0\n"
          ]
        }
      ]
    }
  ]
}