{
  "nbformat": 4,
  "nbformat_minor": 0,
  "metadata": {
    "colab": {
      "provenance": [],
      "authorship_tag": "ABX9TyPo6EXD0dWzoc+RUEakDjof",
      "include_colab_link": true
    },
    "kernelspec": {
      "name": "python3",
      "display_name": "Python 3"
    },
    "language_info": {
      "name": "python"
    }
  },
  "cells": [
    {
      "cell_type": "markdown",
      "metadata": {
        "id": "view-in-github",
        "colab_type": "text"
      },
      "source": [
        "<a href=\"https://colab.research.google.com/github/aurelia2607/PrAlPro-1/blob/main/71241083_Ignacia_Aurelia_Robetta.ipynb\" target=\"_parent\"><img src=\"https://colab.research.google.com/assets/colab-badge.svg\" alt=\"Open In Colab\"/></a>"
      ]
    },
    {
      "cell_type": "code",
      "execution_count": null,
      "metadata": {
        "colab": {
          "base_uri": "https://localhost:8080/"
        },
        "id": "1Js_Jrz-XdCB",
        "outputId": "e8d15b34-f278-4e79-f9e9-41f5efb32f2f"
      },
      "outputs": [
        {
          "output_type": "stream",
          "name": "stdout",
          "text": [
            "30\n",
            "70\n"
          ]
        }
      ],
      "source": [
        "def perkalian(a,b):\n",
        "  hasil = 0\n",
        "\n",
        "  for i in range(a):\n",
        "    hasil += b\n",
        "\n",
        "  return hasil\n",
        "\n",
        "print(perkalian(6,5))\n",
        "print(perkalian(7,10))"
      ]
    },
    {
      "cell_type": "code",
      "source": [
        "def ganjil(bawah,atas):\n",
        "  if bawah < atas:\n",
        "    urutan = 1\n",
        "  else:\n",
        "    urutan = -1\n",
        "\n",
        "  for i in range(bawah,atas+urutan,urutan):\n",
        "    if i % 2 == 1:\n",
        "      print(i, end=(\", \"))\n",
        "  print(\"\\b\\b.\")\n",
        "\n",
        "ganjil(10,30)\n"
      ],
      "metadata": {
        "colab": {
          "base_uri": "https://localhost:8080/"
        },
        "id": "ntLTwvB1Xne7",
        "outputId": "337409de-7cc7-4922-a793-8bf444cbb89b"
      },
      "execution_count": null,
      "outputs": [
        {
          "output_type": "stream",
          "name": "stdout",
          "text": [
            "11, 13, 15, 17, 19, 21, 23, 25, 27, 29, \b\b.\n"
          ]
        }
      ]
    },
    {
      "cell_type": "code",
      "source": [
        "def hitung_ips():\n",
        "    jumlah_matkul = int(input(\"Berapa jumlah mata kuliah: \"))\n",
        "    total_sks = jumlah_matkul * 3\n",
        "    total_bobot = 0\n",
        "\n",
        "    for i in range(jumlah_matkul):\n",
        "        nilai = input(f\"Masukkan nilai mata kuliah {i+1} (A/B/C/D): \")\n",
        "        if nilai.upper() == 'A':\n",
        "            bobot = 4\n",
        "        elif nilai.upper() == 'B':\n",
        "            bobot = 3\n",
        "        elif nilai.upper() == 'C':\n",
        "            bobot = 2\n",
        "        elif nilai.upper() == 'D':\n",
        "            bobot = 1\n",
        "        else:\n",
        "            print(\"Nilai tidak valid! Masukkan hanya A, B, C, atau D.\")\n",
        "            return\n",
        "        total_bobot += bobot * 3\n",
        "    ips = total_bobot / total_sks\n",
        "    print(f\"\\nIPS yang anda dapatkan adalah: {ips:.2f}\")\n",
        "hitung_ips()"
      ],
      "metadata": {
        "colab": {
          "base_uri": "https://localhost:8080/"
        },
        "id": "rE7Yik1ScXyV",
        "outputId": "3398ee37-b684-4379-cb49-4b126f93562a"
      },
      "execution_count": 1,
      "outputs": [
        {
          "output_type": "stream",
          "name": "stdout",
          "text": [
            "Berapa jumlah mata kuliah: 6\n",
            "Masukkan nilai mata kuliah 1 (A/B/C/D): A\n",
            "Masukkan nilai mata kuliah 2 (A/B/C/D): B\n",
            "Masukkan nilai mata kuliah 3 (A/B/C/D): C\n",
            "Masukkan nilai mata kuliah 4 (A/B/C/D): A\n",
            "Masukkan nilai mata kuliah 5 (A/B/C/D): D\n",
            "Masukkan nilai mata kuliah 6 (A/B/C/D): C\n",
            "\n",
            "IPS yang anda dapatkan adalah: 2.67\n"
          ]
        }
      ]
    }
  ]
}