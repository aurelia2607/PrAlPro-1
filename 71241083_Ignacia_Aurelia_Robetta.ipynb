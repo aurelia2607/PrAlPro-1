{
  "nbformat": 4,
  "nbformat_minor": 0,
  "metadata": {
    "colab": {
      "provenance": [],
      "authorship_tag": "ABX9TyP9GV8yj5Aqlvc/wsJbGgUH",
      "include_colab_link": true
    },
    "kernelspec": {
      "name": "python3",
      "display_name": "Python 3"
    },
    "language_info": {
      "name": "python"
    }
  },
  "cells": [
    {
      "cell_type": "markdown",
      "metadata": {
        "id": "view-in-github",
        "colab_type": "text"
      },
      "source": [
        "<a href=\"https://colab.research.google.com/github/aurelia2607/PrAlPro-1/blob/laprak-4/71241083_Ignacia_Aurelia_Robetta.ipynb\" target=\"_parent\"><img src=\"https://colab.research.google.com/assets/colab-badge.svg\" alt=\"Open In Colab\"/></a>"
      ]
    },
    {
      "cell_type": "code",
      "execution_count": null,
      "metadata": {
        "colab": {
          "base_uri": "https://localhost:8080/"
        },
        "id": "9Akd2PXG9NfA",
        "outputId": "3a756ad0-0d38-4afd-95cf-3d25af67f592"
      },
      "outputs": [
        {
          "output_type": "stream",
          "name": "stdout",
          "text": [
            "Masukkan suhu tubuh: dua\n",
            "salah, jangan pake huruf dongg\n"
          ]
        }
      ],
      "source": [
        "#nomer 1 a\n",
        "suhu = input(\"Masukkan suhu tubuh: \")\n",
        "try:\n",
        "    suhu = int(suhu)\n",
        "    if suhu >= 38:\n",
        "        print(\"Anda demam\")\n",
        "    else:\n",
        "        print(\"Anda tidak demam\")\n",
        "except:\n",
        "    print(\"Salah, jangan masukan selain bilangan integer\")"
      ]
    },
    {
      "cell_type": "code",
      "source": [
        "#nomer 1 b\n",
        "bilangan = (input(\"Masukkan suatu bilangan: \"))\n",
        "try:\n",
        "    bilangan = int(bilangan)\n",
        "    if bilangan > 0:\n",
        "        print(\"Positif\")\n",
        "    elif bilangan < 0:\n",
        "        print(\"Negatif\")\n",
        "    elif bilangan == 0:\n",
        "        print(\"Nol\")\n",
        "except:\n",
        "  print(\"Salah, jangan masukan selain bilangan integer\")"
      ],
      "metadata": {
        "colab": {
          "base_uri": "https://localhost:8080/"
        },
        "id": "9e1gc8f7Aa37",
        "outputId": "df555dd1-a6e6-4ddf-c52a-8ad66572f706"
      },
      "execution_count": null,
      "outputs": [
        {
          "output_type": "stream",
          "name": "stdout",
          "text": [
            "Masukkan suatu bilangan: 0\n",
            "Nol\n"
          ]
        }
      ]
    },
    {
      "cell_type": "code",
      "source": [
        "#nomer 1 c\n",
        "a = input(\"Masukkan bilangan pertama: \")\n",
        "b = input(\"Masukkan bilangan kedua: \")\n",
        "c = input(\"Masukkan bilangan ketiga: \")\n",
        "try:\n",
        "    a = int(a)\n",
        "    b = int(b)\n",
        "    c = int(c)\n",
        "    if a > b and a > c:\n",
        "        print(\"Terbesar: \", a)\n",
        "    elif b > a and b > c:\n",
        "        print(\"Terbesar: \", b)\n",
        "    elif c > a and c > b:\n",
        "        print(\"Terbesar: \", c)\n",
        "except:\n",
        "  print(\"Salah, jangan masukan selain bilangan integer\")"
      ],
      "metadata": {
        "colab": {
          "base_uri": "https://localhost:8080/"
        },
        "id": "6Ul8DP7ND4YN",
        "outputId": "1f063667-e392-4e2f-c998-6c52620bdf3f"
      },
      "execution_count": null,
      "outputs": [
        {
          "output_type": "stream",
          "name": "stdout",
          "text": [
            "Masukkan bilangan pertama: 1\n",
            "Masukkan bilangan kedua: 2\n",
            "Masukkan bilangan ketiga: 3\n",
            "Terbesar:  3\n"
          ]
        }
      ]
    },
    {
      "cell_type": "code",
      "source": [
        "#nomer 2\n",
        "bilangan = int(input(\"Masukkan suatu bilangan: \"))\n",
        "ternary_operator = \"Positif\" if bilangan > 0 else \"Negatif\" if bilangan < 0 else \"Nol\"\n",
        "print(ternary_operator)"
      ],
      "metadata": {
        "colab": {
          "base_uri": "https://localhost:8080/"
        },
        "id": "oVc0Mq8GEXBX",
        "outputId": "3dacffc7-5a53-4243-9e57-45959a31a4b1"
      },
      "execution_count": null,
      "outputs": [
        {
          "output_type": "stream",
          "name": "stdout",
          "text": [
            "Masukkan suatu bilangan: 1\n",
            "Positif\n"
          ]
        }
      ]
    },
    {
      "cell_type": "code",
      "source": [
        "#nomer 3\n",
        "bulan = input(\"masukan bulan 1-12: \")\n",
        "try:\n",
        "    bulan = int(bulan)\n",
        "    if bulan == 2:\n",
        "        print(\"Jumlah hari: 29\")\n",
        "    elif bulan in [4, 6, 9, 11]:\n",
        "        print(\"Jumlah hari: 30\")\n",
        "    elif bulan in [1, 3, 5, 7, 8, 10, 12]:\n",
        "        print(\"Jumlah hari: 31\")\n",
        "    else:\n",
        "        print(\"max bulan adalah 12, tolong input ulang\")\n",
        "except:\n",
        "\n",
        "    print(\"tolong input dengan benar!\")\n"
      ],
      "metadata": {
        "colab": {
          "base_uri": "https://localhost:8080/"
        },
        "id": "nmohOJqnFIW2",
        "outputId": "9f6475c1-0a33-48ce-d2a4-ca652202f828"
      },
      "execution_count": null,
      "outputs": [
        {
          "output_type": "stream",
          "name": "stdout",
          "text": [
            "masukan bulan 1-12: 80\n",
            "max bulan adalah 12, tolong input ulang\n"
          ]
        }
      ]
    },
    {
      "cell_type": "code",
      "source": [
        "#nomer 4\n",
        "satu = input(\"masukan bilangan pertama: \")\n",
        "dua = input(\"masukan bilangan kedua: \")\n",
        "tiga = input(\"masukan bilangan ketiga: \")\n",
        "\n",
        "try:\n",
        "  satu = int(satu)\n",
        "  dua = int(dua)\n",
        "  tiga = int(tiga)\n",
        "  if satu == dua == tiga:\n",
        "      print(\"3 sisi sama\")\n",
        "  elif satu == dua or satu == tiga or dua == tiga:\n",
        "      print(\"2 sisi sama\")\n",
        "  else:\n",
        "      print(\"Tidak ada yang sama\")\n",
        "except:\n",
        "  print(\"tolong input dengan benar!\")\n"
      ],
      "metadata": {
        "colab": {
          "base_uri": "https://localhost:8080/"
        },
        "id": "5EWyXRPMNlUr",
        "outputId": "7d1b46dc-59bf-456e-c1d2-664427263c94"
      },
      "execution_count": null,
      "outputs": [
        {
          "output_type": "stream",
          "name": "stdout",
          "text": [
            "masukan bilangan pertama: 15\n",
            "masukan bilangan kedua: 15\n",
            "masukan bilangan ketiga: 16\n",
            "2 sisi sama\n"
          ]
        }
      ]
    }
  ]
}