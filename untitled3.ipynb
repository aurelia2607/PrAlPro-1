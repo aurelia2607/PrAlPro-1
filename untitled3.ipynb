{
  "nbformat": 4,
  "nbformat_minor": 0,
  "metadata": {
    "colab": {
      "provenance": [],
      "authorship_tag": "ABX9TyNhdjQL9pQe1FWmXuKgnzlC",
      "include_colab_link": true
    },
    "kernelspec": {
      "name": "python3",
      "display_name": "Python 3"
    },
    "language_info": {
      "name": "python"
    }
  },
  "cells": [
    {
      "cell_type": "markdown",
      "metadata": {
        "id": "view-in-github",
        "colab_type": "text"
      },
      "source": [
        "<a href=\"https://colab.research.google.com/github/aurelia2607/PrAlPro-1/blob/main/untitled3.ipynb\" target=\"_parent\"><img src=\"https://colab.research.google.com/assets/colab-badge.svg\" alt=\"Open In Colab\"/></a>"
      ]
    },
    {
      "cell_type": "code",
      "execution_count": null,
      "metadata": {
        "colab": {
          "base_uri": "https://localhost:8080/"
        },
        "id": "xVQIiK3j6xnH",
        "outputId": "37cbe6d3-5bd2-4880-b426-d75c1b841686"
      },
      "outputs": [
        {
          "output_type": "stream",
          "name": "stdout",
          "text": [
            "Masukkan bilangan: 69\n",
            "69 bukan bilangan prima\n"
          ]
        }
      ],
      "source": [
        "def is_prima(n, pembagi=2):\n",
        "    if n <= 1:\n",
        "        return False\n",
        "    if pembagi * pembagi > n:\n",
        "        return True\n",
        "    if n % pembagi == 0:\n",
        "        return False\n",
        "    return is_prima(n, pembagi + 1)\n",
        "\n",
        "angka = int(input(\"Masukkan bilangan: \"))\n",
        "if is_prima(angka):\n",
        "    print(angka, \"adalah bilangan prima\")\n",
        "else:\n",
        "    print(angka, \"bukan bilangan prima\")\n"
      ]
    },
    {
      "cell_type": "code",
      "source": [
        "def is_palindrom(kalimat):\n",
        "    kalimat = ''.join(filter(str.isalnum, kalimat.lower()))\n",
        "    if len(kalimat) <= 1:\n",
        "        return True\n",
        "    if kalimat[0] != kalimat[-1]:\n",
        "        return False\n",
        "    return is_palindrom(kalimat[1:-1])\n",
        "\n",
        "teks = input(\"Masukkan kalimat: \")\n",
        "if is_palindrom(teks):\n",
        "    print(\"Kalimat tersebut adalah palindrom\")\n",
        "else:\n",
        "    print(\"Kalimat tersebut bukan palindrom\")\n"
      ],
      "metadata": {
        "colab": {
          "base_uri": "https://localhost:8080/"
        },
        "id": "_1HV02va7GI4",
        "outputId": "d955d8a3-d049-484b-c042-8a781b619331"
      },
      "execution_count": null,
      "outputs": [
        {
          "output_type": "stream",
          "name": "stdout",
          "text": [
            "Masukkan kalimat: jalanjalan\n",
            "Kalimat tersebut bukan palindrom\n"
          ]
        }
      ]
    },
    {
      "cell_type": "code",
      "source": [
        "def jumlah_ganjil(n):\n",
        "    if n < 1:\n",
        "        return 0\n",
        "    if n % 2 == 0:\n",
        "        return jumlah_ganjil(n - 1)\n",
        "    return n + jumlah_ganjil(n - 2)\n",
        "\n",
        "n = int(input(\"Masukkan bilangan ganjil terakhir: \"))\n",
        "print(\"Jumlah deret ganjil:\", jumlah_ganjil(n))\n"
      ],
      "metadata": {
        "colab": {
          "base_uri": "https://localhost:8080/"
        },
        "id": "HwQXvR-87SgE",
        "outputId": "3349c03d-0ce5-4365-d25b-1d8a298b1306"
      },
      "execution_count": null,
      "outputs": [
        {
          "output_type": "stream",
          "name": "stdout",
          "text": [
            "Masukkan bilangan ganjil terakhir: 157\n",
            "Jumlah deret ganjil: 6241\n"
          ]
        }
      ]
    },
    {
      "cell_type": "code",
      "source": [
        "def jumlah_digit(n):\n",
        "    if n < 10:\n",
        "        return n\n",
        "    return n % 10 + jumlah_digit(n // 10)\n",
        "\n",
        "angka = int(input(\"Masukkan bilangan: \"))\n",
        "print(\"Jumlah digit:\", jumlah_digit(angka))\n"
      ],
      "metadata": {
        "colab": {
          "base_uri": "https://localhost:8080/"
        },
        "id": "wO9k_FLt7dem",
        "outputId": "853b7c56-12a3-4f32-e4c2-f6933eb56c7a"
      },
      "execution_count": null,
      "outputs": [
        {
          "output_type": "stream",
          "name": "stdout",
          "text": [
            "Masukkan bilangan: 75\n",
            "Jumlah digit: 12\n"
          ]
        }
      ]
    },
    {
      "cell_type": "code",
      "source": [
        "def kombinasi(n, r):\n",
        "    if r == 0 or r == n:\n",
        "        return 1\n",
        "    return kombinasi(n - 1, r - 1) + kombinasi(n - 1, r)\n",
        "\n",
        "n = int(input(\"Masukkan nilai n: \"))\n",
        "r = int(input(\"Masukkan nilai r: \"))\n",
        "print(\"C(n, r) =\", kombinasi(n, r))\n"
      ],
      "metadata": {
        "colab": {
          "base_uri": "https://localhost:8080/"
        },
        "id": "j2qvRBvA7y_O",
        "outputId": "b8a119c4-a319-4610-ee7a-814b5ed7d9e3"
      },
      "execution_count": null,
      "outputs": [
        {
          "output_type": "stream",
          "name": "stdout",
          "text": [
            "Masukkan nilai n: 5\n",
            "Masukkan nilai r: 2\n",
            "C(n, r) = 10\n"
          ]
        }
      ]
    }
  ]
}